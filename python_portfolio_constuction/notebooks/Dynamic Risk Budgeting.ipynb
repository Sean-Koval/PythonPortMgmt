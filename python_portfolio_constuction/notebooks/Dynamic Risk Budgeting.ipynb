{
 "cells": [
  {
   "cell_type": "markdown",
   "metadata": {},
   "source": [
    "## Dynamic Risk Budgeting"
   ]
  },
  {
   "cell_type": "code",
   "execution_count": 58,
   "metadata": {},
   "outputs": [
    {
     "name": "stdout",
     "output_type": "stream",
     "text": [
      "The autoreload extension is already loaded. To reload it, use:\n",
      "  %reload_ext autoreload\n"
     ]
    }
   ],
   "source": [
    "idmport pandas as pd\n",
    "import numpy as np\n",
    "import risk_ as rk\n",
    "import matplotlib.pyplot as plt\n",
    "import seaborn as sns\n",
    "\n",
    "%matplotlib inline\n",
    "%load_ext autoreload\n",
    "%autoreload 2"
   ]
  },
  {
   "cell_type": "code",
   "execution_count": 59,
   "metadata": {},
   "outputs": [],
   "source": [
    "n_scenarios = 5000\n",
    "rates, zc_prices = rk.cir(10, n_scenarios=n_scenarios, b=0.03, r_0=0.03, sigma=0.02)\n",
    "price_eq = rk.gbm(n_years=10, n_scenarios=n_scenarios, mu=0.07, sigma=0.15)"
   ]
  },
  {
   "cell_type": "code",
   "execution_count": 60,
   "metadata": {},
   "outputs": [
    {
     "data": {
      "text/html": [
       "<div>\n",
       "<style scoped>\n",
       "    .dataframe tbody tr th:only-of-type {\n",
       "        vertical-align: middle;\n",
       "    }\n",
       "\n",
       "    .dataframe tbody tr th {\n",
       "        vertical-align: top;\n",
       "    }\n",
       "\n",
       "    .dataframe thead th {\n",
       "        text-align: right;\n",
       "    }\n",
       "</style>\n",
       "<table border=\"1\" class=\"dataframe\">\n",
       "  <thead>\n",
       "    <tr style=\"text-align: right;\">\n",
       "      <th></th>\n",
       "      <th>Equities</th>\n",
       "      <th>FI</th>\n",
       "      <th>70/30</th>\n",
       "    </tr>\n",
       "  </thead>\n",
       "  <tbody>\n",
       "    <tr>\n",
       "      <th>mean</th>\n",
       "      <td>1.97</td>\n",
       "      <td>1.34</td>\n",
       "      <td>1.76</td>\n",
       "    </tr>\n",
       "    <tr>\n",
       "      <th>std</th>\n",
       "      <td>0.98</td>\n",
       "      <td>0.00</td>\n",
       "      <td>0.60</td>\n",
       "    </tr>\n",
       "    <tr>\n",
       "      <th>p_breach</th>\n",
       "      <td>0.04</td>\n",
       "      <td>NaN</td>\n",
       "      <td>0.01</td>\n",
       "    </tr>\n",
       "    <tr>\n",
       "      <th>e_short</th>\n",
       "      <td>0.13</td>\n",
       "      <td>NaN</td>\n",
       "      <td>0.08</td>\n",
       "    </tr>\n",
       "    <tr>\n",
       "      <th>p_reach</th>\n",
       "      <td>NaN</td>\n",
       "      <td>NaN</td>\n",
       "      <td>NaN</td>\n",
       "    </tr>\n",
       "    <tr>\n",
       "      <th>e_surplus</th>\n",
       "      <td>NaN</td>\n",
       "      <td>NaN</td>\n",
       "      <td>NaN</td>\n",
       "    </tr>\n",
       "  </tbody>\n",
       "</table>\n",
       "</div>"
      ],
      "text/plain": [
       "           Equities    FI  70/30\n",
       "mean           1.97  1.34   1.76\n",
       "std            0.98  0.00   0.60\n",
       "p_breach       0.04   NaN   0.01\n",
       "e_short        0.13   NaN   0.08\n",
       "p_reach         NaN   NaN    NaN\n",
       "e_surplus       NaN   NaN    NaN"
      ]
     },
     "execution_count": 60,
     "metadata": {},
     "output_type": "execute_result"
    }
   ],
   "source": [
    "rets_eq = price_eq.pct_change().dropna()\n",
    "rets_zc = zc_prices.pct_change().dropna()\n",
    "rets_7030b = rk.bt_mix(rets_eq, rets_zc, allocator=rk.fixedmix_allocator, w1=0.7)\n",
    "pd.concat([\n",
    "    rk.terminal_stats(rets_eq, name=\"Equities\", floor=0.75),\n",
    "    rk.terminal_stats(rets_zc, name=\"FI\", floor=0.75),\n",
    "    rk.terminal_stats(rets_7030b, name=\"70/30\", floor=0.75)\n",
    "], axis=1).round(2)"
   ]
  },
  {
   "cell_type": "code",
   "execution_count": 61,
   "metadata": {},
   "outputs": [],
   "source": [
    "def floor_allocator(psp_r, ghp_r, floor, zc_prices, m=3):\n",
    "    \"\"\"\n",
    "    Allocate between PSP and GHP with the goal to provide exposure to the upside\n",
    "    of the PSP without going violating the floor.\n",
    "    Uses a CPPI-style dynamic risk budgeting algorithm by investing a multiple\n",
    "    of the cushion in the PSP\n",
    "    Returns a DataFrame with the same shape as the psp/ghp representing the weights in the PSP\n",
    "    \"\"\"\n",
    "    if zc_prices.shape != psp_r.shape:\n",
    "        raise ValueError(\"PSP and ZC Prices must have the same shape\")\n",
    "    n_steps, n_scenarios = psp_r.shape\n",
    "    account_value = np.repeat(1, n_scenarios)\n",
    "    floor_value = np.repeat(1, n_scenarios)\n",
    "    w_history = pd.DataFrame(index=psp_r.index, columns=psp_r.columns)\n",
    "    for step in range(n_steps):\n",
    "        floor_value = floor*zc_prices.iloc[step] ## PV of Floor assuming today's rates and flat YC\n",
    "        cushion = (account_value - floor_value)/account_value\n",
    "        psp_w = (m*cushion).clip(0, 1) # same as applying min and max\n",
    "        ghp_w = 1-psp_w\n",
    "        psp_alloc = account_value*psp_w\n",
    "        ghp_alloc = account_value*ghp_w\n",
    "        # recompute the new account value at the end of this step\n",
    "        account_value = psp_alloc*(1+psp_r.iloc[step]) + ghp_alloc*(1+ghp_r.iloc[step])\n",
    "        w_history.iloc[step] = psp_w\n",
    "    return w_history"
   ]
  },
  {
   "cell_type": "code",
   "execution_count": 62,
   "metadata": {},
   "outputs": [
    {
     "data": {
      "text/html": [
       "<div>\n",
       "<style scoped>\n",
       "    .dataframe tbody tr th:only-of-type {\n",
       "        vertical-align: middle;\n",
       "    }\n",
       "\n",
       "    .dataframe tbody tr th {\n",
       "        vertical-align: top;\n",
       "    }\n",
       "\n",
       "    .dataframe thead th {\n",
       "        text-align: right;\n",
       "    }\n",
       "</style>\n",
       "<table border=\"1\" class=\"dataframe\">\n",
       "  <thead>\n",
       "    <tr style=\"text-align: right;\">\n",
       "      <th></th>\n",
       "      <th>FI</th>\n",
       "      <th>Equities</th>\n",
       "      <th>70/30</th>\n",
       "      <th>Floor75</th>\n",
       "    </tr>\n",
       "  </thead>\n",
       "  <tbody>\n",
       "    <tr>\n",
       "      <th>mean</th>\n",
       "      <td>1.34</td>\n",
       "      <td>1.97</td>\n",
       "      <td>1.76</td>\n",
       "      <td>1.94</td>\n",
       "    </tr>\n",
       "    <tr>\n",
       "      <th>std</th>\n",
       "      <td>0.00</td>\n",
       "      <td>0.98</td>\n",
       "      <td>0.60</td>\n",
       "      <td>0.99</td>\n",
       "    </tr>\n",
       "    <tr>\n",
       "      <th>p_breach</th>\n",
       "      <td>NaN</td>\n",
       "      <td>0.04</td>\n",
       "      <td>0.01</td>\n",
       "      <td>NaN</td>\n",
       "    </tr>\n",
       "    <tr>\n",
       "      <th>e_short</th>\n",
       "      <td>NaN</td>\n",
       "      <td>0.13</td>\n",
       "      <td>0.08</td>\n",
       "      <td>NaN</td>\n",
       "    </tr>\n",
       "    <tr>\n",
       "      <th>p_reach</th>\n",
       "      <td>NaN</td>\n",
       "      <td>NaN</td>\n",
       "      <td>NaN</td>\n",
       "      <td>NaN</td>\n",
       "    </tr>\n",
       "    <tr>\n",
       "      <th>e_surplus</th>\n",
       "      <td>NaN</td>\n",
       "      <td>NaN</td>\n",
       "      <td>NaN</td>\n",
       "      <td>NaN</td>\n",
       "    </tr>\n",
       "  </tbody>\n",
       "</table>\n",
       "</div>"
      ],
      "text/plain": [
       "             FI  Equities  70/30  Floor75\n",
       "mean       1.34      1.97   1.76     1.94\n",
       "std        0.00      0.98   0.60     0.99\n",
       "p_breach    NaN      0.04   0.01      NaN\n",
       "e_short     NaN      0.13   0.08      NaN\n",
       "p_reach     NaN       NaN    NaN      NaN\n",
       "e_surplus   NaN       NaN    NaN      NaN"
      ]
     },
     "execution_count": 62,
     "metadata": {},
     "output_type": "execute_result"
    }
   ],
   "source": [
    "rets_floor75 = rk.bt_mix(rets_eq, rets_zc, allocator=rk.floor_allocator, floor=0.75, zc_prices=zc_prices[1:])\n",
    "pd.concat([\n",
    "    rk.terminal_stats(rets_zc, name=\"FI\", floor=0.75),\n",
    "    rk.terminal_stats(rets_eq, name=\"Equities\", floor=0.75),\n",
    "    rk.terminal_stats(rets_7030b, name=\"70/30\", floor=0.75),\n",
    "    rk.terminal_stats(rets_floor75, name=\"Floor75\", floor=0.75)\n",
    "], axis=1).round(2)"
   ]
  },
  {
   "cell_type": "code",
   "execution_count": 63,
   "metadata": {},
   "outputs": [
    {
     "data": {
      "text/html": [
       "<div>\n",
       "<style scoped>\n",
       "    .dataframe tbody tr th:only-of-type {\n",
       "        vertical-align: middle;\n",
       "    }\n",
       "\n",
       "    .dataframe tbody tr th {\n",
       "        vertical-align: top;\n",
       "    }\n",
       "\n",
       "    .dataframe thead th {\n",
       "        text-align: right;\n",
       "    }\n",
       "</style>\n",
       "<table border=\"1\" class=\"dataframe\">\n",
       "  <thead>\n",
       "    <tr style=\"text-align: right;\">\n",
       "      <th></th>\n",
       "      <th>FI</th>\n",
       "      <th>Equities</th>\n",
       "      <th>70/30</th>\n",
       "      <th>Floor75</th>\n",
       "      <th>Floor75 M1</th>\n",
       "      <th>Floor75 M5</th>\n",
       "    </tr>\n",
       "  </thead>\n",
       "  <tbody>\n",
       "    <tr>\n",
       "      <th>mean</th>\n",
       "      <td>1.343337</td>\n",
       "      <td>1.966837</td>\n",
       "      <td>1.755011</td>\n",
       "      <td>1.943199</td>\n",
       "      <td>1.620657</td>\n",
       "      <td>1.952983</td>\n",
       "    </tr>\n",
       "    <tr>\n",
       "      <th>std</th>\n",
       "      <td>0.000000</td>\n",
       "      <td>0.982473</td>\n",
       "      <td>0.595989</td>\n",
       "      <td>0.987953</td>\n",
       "      <td>0.433569</td>\n",
       "      <td>0.990618</td>\n",
       "    </tr>\n",
       "    <tr>\n",
       "      <th>p_breach</th>\n",
       "      <td>NaN</td>\n",
       "      <td>0.035400</td>\n",
       "      <td>0.009400</td>\n",
       "      <td>NaN</td>\n",
       "      <td>NaN</td>\n",
       "      <td>NaN</td>\n",
       "    </tr>\n",
       "    <tr>\n",
       "      <th>e_short</th>\n",
       "      <td>NaN</td>\n",
       "      <td>0.133863</td>\n",
       "      <td>0.082045</td>\n",
       "      <td>NaN</td>\n",
       "      <td>NaN</td>\n",
       "      <td>NaN</td>\n",
       "    </tr>\n",
       "    <tr>\n",
       "      <th>p_reach</th>\n",
       "      <td>NaN</td>\n",
       "      <td>NaN</td>\n",
       "      <td>NaN</td>\n",
       "      <td>NaN</td>\n",
       "      <td>NaN</td>\n",
       "      <td>NaN</td>\n",
       "    </tr>\n",
       "    <tr>\n",
       "      <th>e_surplus</th>\n",
       "      <td>NaN</td>\n",
       "      <td>NaN</td>\n",
       "      <td>NaN</td>\n",
       "      <td>NaN</td>\n",
       "      <td>NaN</td>\n",
       "      <td>NaN</td>\n",
       "    </tr>\n",
       "  </tbody>\n",
       "</table>\n",
       "</div>"
      ],
      "text/plain": [
       "                 FI  Equities     70/30   Floor75  Floor75 M1  Floor75 M5\n",
       "mean       1.343337  1.966837  1.755011  1.943199    1.620657    1.952983\n",
       "std        0.000000  0.982473  0.595989  0.987953    0.433569    0.990618\n",
       "p_breach        NaN  0.035400  0.009400       NaN         NaN         NaN\n",
       "e_short         NaN  0.133863  0.082045       NaN         NaN         NaN\n",
       "p_reach         NaN       NaN       NaN       NaN         NaN         NaN\n",
       "e_surplus       NaN       NaN       NaN       NaN         NaN         NaN"
      ]
     },
     "execution_count": 63,
     "metadata": {},
     "output_type": "execute_result"
    }
   ],
   "source": [
    "rets_floor75m1 = rk.bt_mix(rets_eq, rets_zc, allocator=rk.floor_allocator, floor=0.75, zc_prices=zc_prices[1:], m=1)\n",
    "rets_floor75m5 = rk.bt_mix(rets_eq, rets_zc, allocator=rk.floor_allocator, floor=0.75, zc_prices=zc_prices[1:], m=5)\n",
    "pd.concat([\n",
    "    rk.terminal_stats(rets_zc, name=\"FI\", floor=0.75),\n",
    "    rk.terminal_stats(rets_eq, name=\"Equities\", floor=0.75),\n",
    "    rk.terminal_stats(rets_7030b, name=\"70/30\", floor=0.75),\n",
    "    rk.terminal_stats(rets_floor75, name=\"Floor75\", floor=0.75),\n",
    "    rk.terminal_stats(rets_floor75m1, name=\"Floor75 M1\", floor=0.75),\n",
    "    rk.terminal_stats(rets_floor75m5, name=\"Floor75 M5\", floor=0.75),\n",
    "], axis=1).round(7)"
   ]
  },
  {
   "cell_type": "code",
   "execution_count": 64,
   "metadata": {},
   "outputs": [
    {
     "data": {
      "text/html": [
       "<div>\n",
       "<style scoped>\n",
       "    .dataframe tbody tr th:only-of-type {\n",
       "        vertical-align: middle;\n",
       "    }\n",
       "\n",
       "    .dataframe tbody tr th {\n",
       "        vertical-align: top;\n",
       "    }\n",
       "\n",
       "    .dataframe thead th {\n",
       "        text-align: right;\n",
       "    }\n",
       "</style>\n",
       "<table border=\"1\" class=\"dataframe\">\n",
       "  <thead>\n",
       "    <tr style=\"text-align: right;\">\n",
       "      <th></th>\n",
       "      <th>FI</th>\n",
       "      <th>Equities</th>\n",
       "      <th>70/30</th>\n",
       "      <th>Floor75</th>\n",
       "      <th>Floor75 M1</th>\n",
       "      <th>Floor75 M5</th>\n",
       "    </tr>\n",
       "  </thead>\n",
       "  <tbody>\n",
       "    <tr>\n",
       "      <th>mean</th>\n",
       "      <td>1.34</td>\n",
       "      <td>1.97</td>\n",
       "      <td>1.76</td>\n",
       "      <td>1.94</td>\n",
       "      <td>1.62</td>\n",
       "      <td>1.95</td>\n",
       "    </tr>\n",
       "    <tr>\n",
       "      <th>std</th>\n",
       "      <td>0.00</td>\n",
       "      <td>0.98</td>\n",
       "      <td>0.60</td>\n",
       "      <td>0.99</td>\n",
       "      <td>0.43</td>\n",
       "      <td>0.99</td>\n",
       "    </tr>\n",
       "    <tr>\n",
       "      <th>p_breach</th>\n",
       "      <td>NaN</td>\n",
       "      <td>0.04</td>\n",
       "      <td>0.01</td>\n",
       "      <td>NaN</td>\n",
       "      <td>NaN</td>\n",
       "      <td>NaN</td>\n",
       "    </tr>\n",
       "    <tr>\n",
       "      <th>e_short</th>\n",
       "      <td>NaN</td>\n",
       "      <td>0.13</td>\n",
       "      <td>0.08</td>\n",
       "      <td>NaN</td>\n",
       "      <td>NaN</td>\n",
       "      <td>NaN</td>\n",
       "    </tr>\n",
       "    <tr>\n",
       "      <th>p_reach</th>\n",
       "      <td>NaN</td>\n",
       "      <td>NaN</td>\n",
       "      <td>NaN</td>\n",
       "      <td>NaN</td>\n",
       "      <td>NaN</td>\n",
       "      <td>NaN</td>\n",
       "    </tr>\n",
       "    <tr>\n",
       "      <th>e_surplus</th>\n",
       "      <td>NaN</td>\n",
       "      <td>NaN</td>\n",
       "      <td>NaN</td>\n",
       "      <td>NaN</td>\n",
       "      <td>NaN</td>\n",
       "      <td>NaN</td>\n",
       "    </tr>\n",
       "  </tbody>\n",
       "</table>\n",
       "</div>"
      ],
      "text/plain": [
       "             FI  Equities  70/30  Floor75  Floor75 M1  Floor75 M5\n",
       "mean       1.34      1.97   1.76     1.94        1.62        1.95\n",
       "std        0.00      0.98   0.60     0.99        0.43        0.99\n",
       "p_breach    NaN      0.04   0.01      NaN         NaN         NaN\n",
       "e_short     NaN      0.13   0.08      NaN         NaN         NaN\n",
       "p_reach     NaN       NaN    NaN      NaN         NaN         NaN\n",
       "e_surplus   NaN       NaN    NaN      NaN         NaN         NaN"
      ]
     },
     "execution_count": 64,
     "metadata": {},
     "output_type": "execute_result"
    }
   ],
   "source": [
    "rets_floor75m1 = rk.bt_mix(rets_eq, rets_zc, allocator=rk.floor_allocator, floor=0.75, zc_prices=zc_prices[1:], m=1)\n",
    "rets_floor75m5 = rk.bt_mix(rets_eq, rets_zc, allocator=rk.floor_allocator, floor=0.75, zc_prices=zc_prices[1:], m=5)\n",
    "pd.concat([\n",
    "    rk.terminal_stats(rets_zc, name=\"FI\", floor=0.75),\n",
    "    rk.terminal_stats(rets_eq, name=\"Equities\", floor=0.75),\n",
    "    rk.terminal_stats(rets_7030b, name=\"70/30\", floor=0.75),\n",
    "    rk.terminal_stats(rets_floor75, name=\"Floor75\", floor=0.75),\n",
    "    rk.terminal_stats(rets_floor75m1, name=\"Floor75 M1\", floor=0.75),\n",
    "    rk.terminal_stats(rets_floor75m5, name=\"Floor75 M5\", floor=0.75),\n",
    "], axis=1).round(2)"
   ]
  },
  {
   "cell_type": "markdown",
   "metadata": {},
   "source": [
    "# Risk Budgeting with Drawdown Constraints"
   ]
  },
  {
   "cell_type": "code",
   "execution_count": 65,
   "metadata": {},
   "outputs": [
    {
     "data": {
      "text/html": [
       "<div>\n",
       "<style scoped>\n",
       "    .dataframe tbody tr th:only-of-type {\n",
       "        vertical-align: middle;\n",
       "    }\n",
       "\n",
       "    .dataframe tbody tr th {\n",
       "        vertical-align: top;\n",
       "    }\n",
       "\n",
       "    .dataframe thead th {\n",
       "        text-align: right;\n",
       "    }\n",
       "</style>\n",
       "<table border=\"1\" class=\"dataframe\">\n",
       "  <thead>\n",
       "    <tr style=\"text-align: right;\">\n",
       "      <th></th>\n",
       "      <th>FI</th>\n",
       "      <th>Equities</th>\n",
       "      <th>70/30</th>\n",
       "      <th>Floor75</th>\n",
       "      <th>Floor75 M1</th>\n",
       "      <th>Floor75 M5</th>\n",
       "      <th>Maxdd25</th>\n",
       "    </tr>\n",
       "  </thead>\n",
       "  <tbody>\n",
       "    <tr>\n",
       "      <th>mean</th>\n",
       "      <td>1.3433</td>\n",
       "      <td>1.9668</td>\n",
       "      <td>1.7550</td>\n",
       "      <td>1.9432</td>\n",
       "      <td>1.6207</td>\n",
       "      <td>1.9530</td>\n",
       "      <td>1.6276</td>\n",
       "    </tr>\n",
       "    <tr>\n",
       "      <th>std</th>\n",
       "      <td>0.0000</td>\n",
       "      <td>0.9825</td>\n",
       "      <td>0.5960</td>\n",
       "      <td>0.9880</td>\n",
       "      <td>0.4336</td>\n",
       "      <td>0.9906</td>\n",
       "      <td>0.5405</td>\n",
       "    </tr>\n",
       "    <tr>\n",
       "      <th>p_breach</th>\n",
       "      <td>NaN</td>\n",
       "      <td>0.0354</td>\n",
       "      <td>0.0094</td>\n",
       "      <td>NaN</td>\n",
       "      <td>NaN</td>\n",
       "      <td>NaN</td>\n",
       "      <td>NaN</td>\n",
       "    </tr>\n",
       "    <tr>\n",
       "      <th>e_short</th>\n",
       "      <td>NaN</td>\n",
       "      <td>0.1339</td>\n",
       "      <td>0.0820</td>\n",
       "      <td>NaN</td>\n",
       "      <td>NaN</td>\n",
       "      <td>NaN</td>\n",
       "      <td>NaN</td>\n",
       "    </tr>\n",
       "    <tr>\n",
       "      <th>p_reach</th>\n",
       "      <td>NaN</td>\n",
       "      <td>NaN</td>\n",
       "      <td>NaN</td>\n",
       "      <td>NaN</td>\n",
       "      <td>NaN</td>\n",
       "      <td>NaN</td>\n",
       "      <td>NaN</td>\n",
       "    </tr>\n",
       "    <tr>\n",
       "      <th>e_surplus</th>\n",
       "      <td>NaN</td>\n",
       "      <td>NaN</td>\n",
       "      <td>NaN</td>\n",
       "      <td>NaN</td>\n",
       "      <td>NaN</td>\n",
       "      <td>NaN</td>\n",
       "      <td>NaN</td>\n",
       "    </tr>\n",
       "  </tbody>\n",
       "</table>\n",
       "</div>"
      ],
      "text/plain": [
       "               FI  Equities   70/30  Floor75  Floor75 M1  Floor75 M5  Maxdd25\n",
       "mean       1.3433    1.9668  1.7550   1.9432      1.6207      1.9530   1.6276\n",
       "std        0.0000    0.9825  0.5960   0.9880      0.4336      0.9906   0.5405\n",
       "p_breach      NaN    0.0354  0.0094      NaN         NaN         NaN      NaN\n",
       "e_short       NaN    0.1339  0.0820      NaN         NaN         NaN      NaN\n",
       "p_reach       NaN       NaN     NaN      NaN         NaN         NaN      NaN\n",
       "e_surplus     NaN       NaN     NaN      NaN         NaN         NaN      NaN"
      ]
     },
     "execution_count": 65,
     "metadata": {},
     "output_type": "execute_result"
    }
   ],
   "source": [
    "# All done with simulated data, use real data (create an ETL function t o pull in historic prices)\n",
    "cashrate = 0.02\n",
    "monthly_cashreturn = (1 + cashrate)**(1/12) - 1\n",
    "rets_cash = pd.DataFrame(data=monthly_cashreturn, index=rets_eq.index, columns=rets_eq.columns)\n",
    "rets_maxdd25 = rk.bt_mix(rets_eq, rets_cash, allocator=rk.drawdown_allocator, maxdd=.25)\n",
    "tv_maxdd25 = rk.terminal_values(rets_maxdd25)\n",
    "pd.concat([\n",
    "    rk.terminal_stats(rets_zc, name=\"FI\", floor=0.75),\n",
    "    rk.terminal_stats(rets_eq, name=\"Equities\", floor=0.75),\n",
    "    rk.terminal_stats(rets_7030b, name=\"70/30\", floor=0.75),\n",
    "    rk.terminal_stats(rets_floor75, name=\"Floor75\", floor=0.75),\n",
    "    rk.terminal_stats(rets_floor75m1, name=\"Floor75 M1\", floor=0.75),\n",
    "    rk.terminal_stats(rets_floor75m5, name=\"Floor75 M5\", floor=0.75),\n",
    "    rk.terminal_stats(rets_maxdd25, name=\"Maxdd25\", floor=0.75),\n",
    "], axis=1).round(4)"
   ]
  },
  {
   "cell_type": "code",
   "execution_count": 66,
   "metadata": {},
   "outputs": [
    {
     "data": {
      "text/plain": [
       "0   -0.204064\n",
       "1   -0.181439\n",
       "2   -0.160843\n",
       "3   -0.183151\n",
       "4   -0.176543\n",
       "Name: Max Drawdown, dtype: float64"
      ]
     },
     "execution_count": 66,
     "metadata": {},
     "output_type": "execute_result"
    }
   ],
   "source": [
    "rk.summary_stats(rets_maxdd25)[\"Max Drawdown\"].head()"
   ]
  },
  {
   "cell_type": "code",
   "execution_count": 67,
   "metadata": {},
   "outputs": [
    {
     "data": {
      "text/plain": [
       "-0.2353397903725082"
      ]
     },
     "execution_count": 67,
     "metadata": {},
     "output_type": "execute_result"
    }
   ],
   "source": [
    "rk.summary_stats(rets_maxdd25)[\"Max Drawdown\"].min()"
   ]
  },
  {
   "cell_type": "code",
   "execution_count": 70,
   "metadata": {},
   "outputs": [
    {
     "data": {
      "image/png": "[encoded data removed]",
      "text/plain": [
       "<Figure size 864x432 with 1 Axes>"
      ]
     },
     "metadata": {
      "needs_background": "light"
     },
     "output_type": "display_data"
    }
   ],
   "source": [
    "tv_eq = rk.terminal_values(rets_eq)\n",
    "tv_zc = rk.terminal_values(rets_zc)\n",
    "tv_7030b = rk.terminal_values(rets_7030b)\n",
    "tv_floor75 = rk.terminal_values(rets_floor75)\n",
    "tv_maxdd25 = rk.terminal_values(rets_maxdd25)\n",
    "# plot\n",
    "plt.figure(figsize=(12, 6))\n",
    "sns.distplot(tv_eq, color=\"red\", label=\"100% Equities\", bins=100)\n",
    "plt.axvline(tv_eq.mean(), ls=\"--\", color=\"red\")\n",
    "sns.distplot(tv_7030b, color=\"orange\", label=\"70/30\", bins=100)\n",
    "plt.axvline(tv_7030b.mean(), ls=\"--\", color=\"orange\")\n",
    "sns.distplot(tv_floor75, color=\"green\", label=\"Floor at 75%\", bins=100)\n",
    "plt.axvline(tv_floor75.mean(), ls=\"--\", color=\"green\")\n",
    "sns.distplot(tv_maxdd25, color=\"yellow\", label=\"Maxdd 25\", bins=100)\n",
    "plt.axvline(tv_maxdd25.mean(), ls=\"--\", color=\"yellow\")n \n",
    "plt.legend();"
   ]
  },
  {
   "cell_type": "markdown",
   "metadata": {},
   "source": [
    "# Drawdown Constraint with Historical Data"
   ]
  },
  {
   "cell_type": "code",
   "execution_count": 75,
   "metadata": {},
   "outputs": [
    {
     "data": {
      "text/plain": [
       "<matplotlib.axes._subplots.AxesSubplot at 0x26e3697a488>"
      ]
     },
     "execution_count": 75,
     "metadata": {},
     "output_type": "execute_result"
    },
    {
     "data": {
      "image/png": "[encoded data removed]",
      "text/plain": [
       "<Figure size 864x432 with 1 Axes>"
      ]
     },
     "metadata": {
      "needs_background": "light"
     },
     "output_type": "display_data"
    }
   ],
   "source": [
    "rets_tmi = rk.get_total_market_index_returns()[\"1990\":]\n",
    "dd_tmi = rk.drawdown(rets_tmi)\n",
    "ax = dd_tmi[\"Wealth\"].plot(figsize=(12, 6), ls=\"-\", color=\"goldenrod\")\n",
    "dd_tmi[\"Previous Peak\"].plot(ax=ax, ls=\":\", color=\"goldenrod\")"
   ]
  },
  {
   "cell_type": "code",
   "execution_count": 84,
   "metadata": {},
   "outputs": [
    {
     "data": {
      "text/plain": [
       "<matplotlib.axes._subplots.AxesSubplot at 0x26e30d326c8>"
      ]
     },
     "execution_count": 84,
     "metadata": {},
     "output_type": "execute_result"
    },
    {
     "data": {
      "image/png": "[encoded data removed]",
      "text/plain": [
       "<Figure size 864x432 with 1 Axes>"
      ]
     },
     "metadata": {
      "needs_background": "light"
     },
     "output_type": "display_data"
    }
   ],
   "source": [
    "# using historical data (rets_tmi) as opposed to simulated EQ dwith with rets_eq for r1\n",
    "cashrate = 0.03\n",
    "monthly_cashreturn = (1 + cashrate)**(1/12) - 1\n",
    "rets_cash = pd.DataFrame(data=monthly_cashreturn, index=rets_tmi.index, columns=[0]) # 1 column dataframe\n",
    "rets_maxdd25 = rk.bt_mix(pd.DataFrame(rets_tmi), rets_cash, allocator=rk.drawdown_allocator, maxdd=.25, m=5)\n",
    "dd_25 = rk.drawdown(rets_maxdd25[0])\n",
    "\n",
    "ax = dd_tmi[\"Wealth\"].plot(figsize=(12, 6), ls=\"-\", color=\"goldenrod\", label=\"Market\", legend=True)\n",
    "dd_tmi[\"Previous Peak\"].plot(ax=ax, ls=\":\", color=\"goldenrod\")\n",
    "dd_25[\"Wealth\"].plot(ax=ax, label=\"MaxDD 25%\", color=\"cornflowerblue\", legend=True)\n",
    "dd_25[\"Previous Peak\"].plot(ax=ax, color=\"cornflowerblue\", ls=\":\")"
   ]
  },
  {
   "cell_type": "code",
   "execution_count": 88,
   "metadata": {},
   "outputs": [
    {
     "data": {
      "text/html": [
       "<div>\n",
       "<style scoped>\n",
       "    .dataframe tbody tr th:only-of-type {\n",
       "        vertical-align: middle;\n",
       "    }\n",
       "\n",
       "    .dataframe tbody tr th {\n",
       "        vertical-align: top;\n",
       "    }\n",
       "\n",
       "    .dataframe thead th {\n",
       "        text-align: right;\n",
       "    }\n",
       "</style>\n",
       "<table border=\"1\" class=\"dataframe\">\n",
       "  <thead>\n",
       "    <tr style=\"text-align: right;\">\n",
       "      <th></th>\n",
       "      <th>Annualized Return</th>\n",
       "      <th>Annualized Vol</th>\n",
       "      <th>Skewness</th>\n",
       "      <th>Kurtosis</th>\n",
       "      <th>Cornish-Fisher VaR (5%)</th>\n",
       "      <th>Historic CVaR (5%)</th>\n",
       "      <th>Sharpe Ratio</th>\n",
       "      <th>Max Drawdown</th>\n",
       "    </tr>\n",
       "  </thead>\n",
       "  <tbody>\n",
       "    <tr>\n",
       "      <th>Market</th>\n",
       "      <td>0.096058</td>\n",
       "      <td>0.145419</td>\n",
       "      <td>-0.668827</td>\n",
       "      <td>4.247282</td>\n",
       "      <td>0.066949</td>\n",
       "      <td>0.094633</td>\n",
       "      <td>0.441951</td>\n",
       "      <td>-0.499943</td>\n",
       "    </tr>\n",
       "    <tr>\n",
       "      <th>MaxDD</th>\n",
       "      <td>0.090062</td>\n",
       "      <td>0.112755</td>\n",
       "      <td>-0.630463</td>\n",
       "      <td>5.015334</td>\n",
       "      <td>0.049978</td>\n",
       "      <td>0.071074</td>\n",
       "      <td>0.518327</td>\n",
       "      <td>-0.244212</td>\n",
       "    </tr>\n",
       "  </tbody>\n",
       "</table>\n",
       "</div>"
      ],
      "text/plain": [
       "        Annualized Return  Annualized Vol  Skewness  Kurtosis  \\\n",
       "Market           0.096058        0.145419 -0.668827  4.247282   \n",
       "MaxDD            0.090062        0.112755 -0.630463  5.015334   \n",
       "\n",
       "        Cornish-Fisher VaR (5%)  Historic CVaR (5%)  Sharpe Ratio  \\\n",
       "Market                 0.066949            0.094633      0.441951   \n",
       "MaxDD                  0.049978            0.071074      0.518327   \n",
       "\n",
       "        Max Drawdown  \n",
       "Market     -0.499943  \n",
       "MaxDD      -0.244212  "
      ]
     },
     "execution_count": 88,
     "metadata": {},
     "output_type": "execute_result"
    }
   ],
   "source": [
    "rk.summary_stats(pd.concat([rets_tmi.rename(\"Market\"), rets_maxdd25[0].rename(\"MaxDD\")], axis=1))"
   ]
  },
  {
   "cell_type": "code",
   "execution_count": null,
   "metadata": {},
   "outputs": [],
   "source": []
  },
  {
   "cell_type": "code",
   "execution_count": null,
   "metadata": {},
   "outputs": [],
   "source": []
  }
 ],
 "metadata": {
  "kernelspec": {
   "display_name": "Python 3",
   "language": "python",
   "name": "python3"
  },
  "language_info": {
   "codemirror_mode": {
    "name": "ipython",
    "version": 3
   },
   "file_extension": ".py",
   "mimetype": "text/x-python",
   "name": "python",
   "nbconvert_exporter": "python",
   "pygments_lexer": "ipython3",
   "version": "3.7.6"
  }
 },
 "nbformat": 4,
 "nbformat_minor": 4
}
